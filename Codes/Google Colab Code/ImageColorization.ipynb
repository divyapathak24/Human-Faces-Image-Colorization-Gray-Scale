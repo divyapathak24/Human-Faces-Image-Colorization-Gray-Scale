{
  "nbformat": 4,
  "nbformat_minor": 0,
  "metadata": {
    "colab": {
      "name": "Copy of ImageColorization.ipynb",
      "private_outputs": true,
      "provenance": [],
      "collapsed_sections": []
    },
    "kernelspec": {
      "name": "python3",
      "display_name": "Python 3"
    },
    "accelerator": "GPU"
  },
  "cells": [
    {
      "cell_type": "markdown",
      "metadata": {
        "id": "-0D-jthJORGo"
      },
      "source": [
        "# **Training the Network using Google Colab for 128x128 dimension and with 500 Human Faced Images.**\n"
      ]
    },
    {
      "cell_type": "code",
      "metadata": {
        "id": "gjIOilwuSeWr"
      },
      "source": [
        "from google.colab import drive\n",
        "drive.mount('/content/drive')"
      ],
      "execution_count": null,
      "outputs": []
    },
    {
      "cell_type": "markdown",
      "metadata": {
        "id": "j03gGBR4PCXq"
      },
      "source": [
        "# **Import Libraries**"
      ]
    },
    {
      "cell_type": "code",
      "metadata": {
        "id": "Gvqkjy-uNnpe"
      },
      "source": [
        "\n",
        "from tensorflow.keras.layers import *\n",
        "from tensorflow.keras.activations import *\n",
        "from tensorflow.keras import optimizers\n",
        "from tensorflow.keras import losses\n",
        "from tensorflow.keras import models\n",
        "from skimage.io import imshow , imsave\n",
        "import tensorflow as tf\n",
        "import numpy as np\n",
        "\n",
        "print( tf.compat.v1.VERSION ) \n"
      ],
      "execution_count": null,
      "outputs": []
    },
    {
      "cell_type": "markdown",
      "metadata": {
        "id": "HaIWG7mDO4cI"
      },
      "source": [
        "# **Load the Training numpy file X and Y**"
      ]
    },
    {
      "cell_type": "code",
      "metadata": {
        "id": "fHh6w4VRRFtx"
      },
      "source": [
        "\n",
        "X = np.load( 'X.npy' ) \n",
        "Y = np.load( 'Y.npy' ) \n",
        "\n",
        "\n",
        "print( X.shape ,Y.shape ) \n",
        " \n"
      ],
      "execution_count": null,
      "outputs": []
    },
    {
      "cell_type": "markdown",
      "metadata": {
        "id": "3yoIK69HOkun"
      },
      "source": [
        "# **Network Definition**"
      ]
    },
    {
      "cell_type": "code",
      "metadata": {
        "id": "J6PMbuWKQhzA"
      },
      "source": [
        "\n",
        "dropout_rate = 0.5\n",
        "DIMEN = 128\n",
        "kernel_size = ( 5 , 5 )\n",
        "\n",
        "NEURAL_SCHEMA = [\n",
        "\n",
        "    Conv2D( 32 , input_shape=( DIMEN , DIMEN , 1 ) , kernel_size=kernel_size , strides=1,activation=relu),\n",
        "    Dropout( dropout_rate ) ,\n",
        "    Conv2D( 64, kernel_size=kernel_size, strides=1, activation=relu),\n",
        "    Dropout(dropout_rate),\n",
        "    Conv2D( 128, kernel_size=kernel_size, strides=1, activation=relu) ,\n",
        "    Dropout(dropout_rate),\n",
        "    Conv2D( 256, kernel_size=kernel_size, strides=1, activation=relu),\n",
        "    Dropout(dropout_rate),\n",
        "    Conv2DTranspose( 128, kernel_size=kernel_size, strides=1, activation=relu),\n",
        "    Dropout(dropout_rate),\n",
        "    Conv2DTranspose( 64, kernel_size=kernel_size, strides=1, activation=relu),\n",
        "    Dropout(dropout_rate),\n",
        "    Conv2DTranspose( 32, kernel_size=kernel_size, strides=1, activation=relu),\n",
        "    Dropout(dropout_rate),\n",
        "    Conv2DTranspose( 3, kernel_size=kernel_size, strides=1, activation=relu ),\n",
        "\n",
        "]\n",
        "\n",
        "model = tf.keras.Sequential( NEURAL_SCHEMA )\n",
        "\n",
        "model.compile(\n",
        "    optimizer=optimizers.Adam(0.0001),\n",
        "    loss=losses.mean_squared_error,\n",
        "    metrics=['accuracy'],\n",
        ")\n"
      ],
      "execution_count": null,
      "outputs": []
    },
    {
      "cell_type": "markdown",
      "metadata": {
        "id": "Fz2rUCR8Oq9_"
      },
      "source": [
        "# **Optional, more Training to the already trained network**"
      ]
    },
    {
      "cell_type": "code",
      "metadata": {
        "id": "Nr9XCkZbEi0S"
      },
      "source": [
        "\n",
        "model = models.load_model( 'model.h5' ) \n"
      ],
      "execution_count": null,
      "outputs": []
    },
    {
      "cell_type": "code",
      "metadata": {
        "id": "BENB4VEVRakX"
      },
      "source": [
        "\n",
        "history = model.fit(\n",
        "    X, \n",
        "    Y, \n",
        "    batch_size=100 , \n",
        "    epochs=2000\n",
        ")\n"
      ],
      "execution_count": null,
      "outputs": []
    },
    {
      "cell_type": "markdown",
      "metadata": {
        "id": "3bf35EpaOw-Q"
      },
      "source": [
        "# **Plot the history**"
      ]
    },
    {
      "cell_type": "code",
      "metadata": {
        "id": "N4nlyxxGkLuS"
      },
      "source": [
        "import matplotlib.pyplot as plt\n",
        "# list all data in history\n",
        "print(history.history.keys())\n",
        "# summarize history for loss\n",
        "plt.plot(history.history['loss'])\n",
        "plt.title('model loss')\n",
        "plt.ylabel('loss')\n",
        "plt.xlabel('epoch')\n",
        "plt.legend(['train', 'test'], loc='upper left')\n",
        "plt.show()\n",
        "\n",
        "\n",
        "# summarize history for accuracy\n",
        "plt.plot(history.history['accuracy'])\n",
        "plt.title('model accuracy')\n",
        "plt.ylabel('accuracy')\n",
        "plt.xlabel('epoch')\n",
        "plt.legend(['train', 'test'], loc='upper left')\n",
        "plt.show()\n",
        "\n",
        "#Note here we are going to show only training loss\n"
      ],
      "execution_count": null,
      "outputs": []
    },
    {
      "cell_type": "markdown",
      "metadata": {
        "id": "KQFrW57fO0lP"
      },
      "source": [
        "# **Save the model for future use**"
      ]
    },
    {
      "cell_type": "code",
      "metadata": {
        "id": "I9rObwqpcslp"
      },
      "source": [
        "\n",
        "model.save( 'model.h5')\n"
      ],
      "execution_count": null,
      "outputs": []
    },
    {
      "cell_type": "markdown",
      "metadata": {
        "id": "gUuEdyHKOMfR"
      },
      "source": [
        ""
      ]
    }
  ]
}